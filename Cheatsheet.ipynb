{
  "nbformat": 4,
  "nbformat_minor": 0,
  "metadata": {
    "colab": {
      "name": "Cheatsheet.ipynb",
      "version": "0.3.2",
      "provenance": []
    },
    "kernelspec": {
      "name": "python3",
      "display_name": "Python 3"
    }
  },
  "cells": [
    {
      "cell_type": "code",
      "metadata": {
        "id": "MU7NnRcKoPBo",
        "colab_type": "code",
        "colab": {}
      },
      "source": [
        "# train_test_split\n",
        "from sklearn.model_selection import train_test_split\n",
        "X = train.iloc[:,1:20].values\n",
        "y = train.iloc[:,20].values\n",
        "x_train, x_test, y_train, y_test = train_test_split(X, y, test_size=0.2, random_state=0)"
      ],
      "execution_count": 0,
      "outputs": []
    },
    {
      "cell_type": "code",
      "metadata": {
        "id": "woVydldBqpa3",
        "colab_type": "code",
        "colab": {}
      },
      "source": [
        "# uploading a file to google colab\n",
        "from google.colab import files\n",
        "uploaded = files.upload()"
      ],
      "execution_count": 0,
      "outputs": []
    },
    {
      "cell_type": "code",
      "metadata": {
        "id": "u3Fwx8RfofwO",
        "colab_type": "code",
        "colab": {}
      },
      "source": [
        "# accuracy score\n",
        "from sklearn.linear_model import LogisticRegression\n",
        "lrmodel = LogisticRegression()\n",
        "lrmodel.fit(x_train,y_train)\n",
        "prediction2=lrmodel.predict(x_test)\n",
        "acc=metrics.accuracy_score(prediction2, y_test)\n",
        "print(acc)"
      ],
      "execution_count": 0,
      "outputs": []
    },
    {
      "cell_type": "code",
      "metadata": {
        "id": "8aB5vUmcoqbD",
        "colab_type": "code",
        "colab": {}
      },
      "source": [
        "# downloading a csv from colab\n",
        "lrmodel = LogisticRegression(solver='newton-cg',max_iter=500)\n",
        "lrmodel.fit(X_train, y_train)\n",
        "y_pred = lrmodel.predict(X_test)\n",
        "print(y_pred)\n",
        "\n",
        "submission = pd.concat([test.id, pd.Series(y_pred)], axis = 1)\n",
        "submission.columns = ['id', 'Predicted']\n",
        "submission.to_csv('submission.csv', index=False)\n",
        "\n",
        "from google.colab import files\n",
        "files.download(\"submission.csv\")"
      ],
      "execution_count": 0,
      "outputs": []
    },
    {
      "cell_type": "code",
      "metadata": {
        "id": "BX3410gAo4k9",
        "colab_type": "code",
        "colab": {}
      },
      "source": [
        "# classification Report\n",
        "from sklearn.metrics import classification_report\n",
        "print(classification_report(y, y_pred))"
      ],
      "execution_count": 0,
      "outputs": []
    },
    {
      "cell_type": "code",
      "metadata": {
        "id": "3FZHdZ-kpVxw",
        "colab_type": "code",
        "colab": {}
      },
      "source": [
        "# logistic regression confusion matrix\n",
        "from sklearn.metrics import confusion_matrix\n",
        "y_pred = cross_val_predict(LogisticRegression(solver='newton-cg'),X,y,cv=10)\n",
        "sns.heatmap(confusion_matrix(y,y_pred),annot=True, cmap='Blues')"
      ],
      "execution_count": 0,
      "outputs": []
    }
  ]
}